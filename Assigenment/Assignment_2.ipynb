{
 "cells": [
  {
   "cell_type": "markdown",
   "metadata": {},
   "source": [
    "## Write a Python function that takes *N* as an input and returns the matrix *A* and vector *f*.\n",
    "You should use an appropriate sparse storage format for the matrix *A*."
   ]
  },
  {
   "cell_type": "code",
   "execution_count": 131,
   "metadata": {},
   "outputs": [
    {
     "ename": "ImportError",
     "evalue": "cannot import name 'csr_array' from 'scipy.sparse' (C:\\Program Files\\Anaconda3\\lib\\site-packages\\scipy\\sparse\\__init__.py)",
     "output_type": "error",
     "traceback": [
      "\u001b[1;31m---------------------------------------------------------------------------\u001b[0m",
      "\u001b[1;31mImportError\u001b[0m                               Traceback (most recent call last)",
      "Input \u001b[1;32mIn [131]\u001b[0m, in \u001b[0;36m<cell line: 2>\u001b[1;34m()\u001b[0m\n\u001b[0;32m      1\u001b[0m \u001b[38;5;28;01mimport\u001b[39;00m \u001b[38;5;21;01mnumpy\u001b[39;00m \u001b[38;5;28;01mas\u001b[39;00m \u001b[38;5;21;01mnp\u001b[39;00m\n\u001b[1;32m----> 2\u001b[0m \u001b[38;5;28;01mfrom\u001b[39;00m \u001b[38;5;21;01mscipy\u001b[39;00m\u001b[38;5;21;01m.\u001b[39;00m\u001b[38;5;21;01msparse\u001b[39;00m \u001b[38;5;28;01mimport\u001b[39;00m csr_matrix,csc_matrix,csr_array\n\u001b[0;32m      4\u001b[0m \u001b[38;5;28;01mdef\u001b[39;00m \u001b[38;5;21mgenerate_mat\u001b[39m(N):\n\u001b[0;32m      5\u001b[0m     \u001b[38;5;28;01massert\u001b[39;00m N\u001b[38;5;241m>\u001b[39m\u001b[38;5;241m=\u001b[39m\u001b[38;5;241m0\u001b[39m\n",
      "\u001b[1;31mImportError\u001b[0m: cannot import name 'csr_array' from 'scipy.sparse' (C:\\Program Files\\Anaconda3\\lib\\site-packages\\scipy\\sparse\\__init__.py)"
     ]
    }
   ],
   "source": [
    "import numpy as np\n",
    "from scipy.sparse import csr_matrix,csc_matrix,csr_array\n",
    "\n",
    "def generate_mat(N):\n",
    "    assert N>=0\n",
    "    if N==2: return np.array([1]),np.array([1])\n",
    "    \n",
    "    f= np.concatenate([np.zeros(N),[1]],axis=0)\n",
    "    f=csr_array(f)\n",
    "    \n",
    "    A=np.zeros([N+1,N+1])\n",
    "    for i in range(1,N):\n",
    "        a=2.-(i*i/N/N)\n",
    "        A[i]=np.concatenate((np.zeros(i-1),[-1,a,-1],np.zeros(N-2-i+1)),axis=0)\n",
    "    A[0,0]=1\n",
    "    A[N,N]=1\n",
    "    A = csr_matrix(A)\n",
    "#     A = csc_matrix(A)\n",
    "    \n",
    "    return A,f\n",
    "    "
   ]
  },
  {
   "cell_type": "markdown",
   "metadata": {},
   "source": [
    " * Use an appropriate sparse storage format for the matrix."
   ]
  },
  {
   "cell_type": "code",
   "execution_count": 121,
   "metadata": {},
   "outputs": [
    {
     "name": "stdout",
     "output_type": "stream",
     "text": [
      "[[ 1.          0.          0.          0.        ]\n",
      " [-1.          1.88888889 -1.          0.        ]\n",
      " [ 0.         -1.          1.55555556 -1.        ]\n",
      " [ 0.          0.          0.          1.        ]]\n",
      "[0. 0. 0. 1.]\n"
     ]
    }
   ],
   "source": [
    "A,f=generate_mat(3)\n",
    "print(A)\n",
    "print(f)"
   ]
  },
  {
   "cell_type": "code",
   "execution_count": 126,
   "metadata": {},
   "outputs": [],
   "source": [
    "\n"
   ]
  },
  {
   "cell_type": "code",
   "execution_count": 128,
   "metadata": {},
   "outputs": [
    {
     "name": "stdout",
     "output_type": "stream",
     "text": [
      "  (0, 0)\t1.0\n",
      "  (1, 0)\t-1.0\n",
      "  (1, 1)\t1.8888888888888888\n",
      "  (1, 2)\t-1.0\n",
      "  (2, 1)\t-1.0\n",
      "  (2, 2)\t1.5555555555555556\n",
      "  (2, 3)\t-1.0\n",
      "  (3, 3)\t1.0\n",
      "----------------\n",
      "  (0, 0)\t1.0\n",
      "  (1, 0)\t-1.0\n",
      "  (1, 1)\t1.8888888888888888\n",
      "  (2, 1)\t-1.0\n",
      "  (1, 2)\t-1.0\n",
      "  (2, 2)\t1.5555555555555556\n",
      "  (2, 3)\t-1.0\n",
      "  (3, 3)\t1.0\n"
     ]
    }
   ],
   "source": [
    "print(A_csr)\n",
    "print('----------------')\n",
    "print(A_csc)"
   ]
  },
  {
   "cell_type": "code",
   "execution_count": null,
   "metadata": {},
   "outputs": [],
   "source": []
  }
 ],
 "metadata": {
  "kernelspec": {
   "display_name": "Python 3 (ipykernel)",
   "language": "python",
   "name": "python3"
  },
  "language_info": {
   "codemirror_mode": {
    "name": "ipython",
    "version": 3
   },
   "file_extension": ".py",
   "mimetype": "text/x-python",
   "name": "python",
   "nbconvert_exporter": "python",
   "pygments_lexer": "ipython3",
   "version": "3.9.12"
  }
 },
 "nbformat": 4,
 "nbformat_minor": 1
}
