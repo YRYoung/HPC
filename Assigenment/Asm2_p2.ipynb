{
  "cells": [
    {
      "cell_type": "code",
      "execution_count": 25,
      "outputs": [],
      "source": [
        "import numpy as np\n",
        "\n",
        "\n",
        "def solve_u(N, t):\n",
        "    h = 1 / N\n",
        "    T = N * t\n",
        "    u = np.zeros((N + 1, T + 1))\n",
        "    # u[:,0]=0\n",
        "    u[0, :] = 10\n",
        "    u[N, :] = 10\n",
        "    for j in range(T + 1):\n",
        "        for i in range(N + 1):\n",
        "            if i != 0 and i != N and j != 0:\n",
        "                u[i, j] = u[i, j - 1] + (u[i - 1, j - 1] - 2 * u[i, j - 1] + u[i + 1, j - 1]) / 1000 / h\n",
        "\n",
        "    return u\n",
        "\n",
        "\n"
      ],
      "metadata": {
        "id": "AfQr54GOg8J3"
      }
    },
    {
      "cell_type": "code",
      "execution_count": 44,
      "outputs": [
        {
          "output_type": "error",
          "ename": "KeyboardInterrupt",
          "evalue": "ignored",
          "traceback": [
            "\u001b[0;31m---------------------------------------------------------------------------\u001b[0m",
            "\u001b[0;31mKeyboardInterrupt\u001b[0m                         Traceback (most recent call last)",
            "\u001b[0;32m<ipython-input-44-9375af632c72>\u001b[0m in \u001b[0;36m<module>\u001b[0;34m\u001b[0m\n\u001b[1;32m      9\u001b[0m \u001b[0mt\u001b[0m \u001b[0;34m=\u001b[0m \u001b[0;36m400\u001b[0m\u001b[0;34m\u001b[0m\u001b[0;34m\u001b[0m\u001b[0m\n\u001b[1;32m     10\u001b[0m \u001b[0;34m\u001b[0m\u001b[0m\n\u001b[0;32m---> 11\u001b[0;31m \u001b[0msol\u001b[0m \u001b[0;34m=\u001b[0m \u001b[0msolve_u\u001b[0m\u001b[0;34m(\u001b[0m\u001b[0mN\u001b[0m\u001b[0;34m,\u001b[0m \u001b[0mt\u001b[0m\u001b[0;34m)\u001b[0m\u001b[0;34m\u001b[0m\u001b[0;34m\u001b[0m\u001b[0m\n\u001b[0m\u001b[1;32m     12\u001b[0m \u001b[0mfig\u001b[0m \u001b[0;34m=\u001b[0m \u001b[0mplt\u001b[0m\u001b[0;34m.\u001b[0m\u001b[0mfigure\u001b[0m\u001b[0;34m(\u001b[0m\u001b[0mfigsize\u001b[0m\u001b[0;34m=\u001b[0m\u001b[0;34m(\u001b[0m\u001b[0;36m8\u001b[0m\u001b[0;34m,\u001b[0m \u001b[0;36m8\u001b[0m\u001b[0;34m)\u001b[0m\u001b[0;34m)\u001b[0m\u001b[0;34m\u001b[0m\u001b[0;34m\u001b[0m\u001b[0m\n\u001b[1;32m     13\u001b[0m \u001b[0max\u001b[0m \u001b[0;34m=\u001b[0m \u001b[0mfig\u001b[0m\u001b[0;34m.\u001b[0m\u001b[0mgca\u001b[0m\u001b[0;34m(\u001b[0m\u001b[0mprojection\u001b[0m\u001b[0;34m=\u001b[0m\u001b[0;34m'3d'\u001b[0m\u001b[0;34m)\u001b[0m\u001b[0;34m\u001b[0m\u001b[0;34m\u001b[0m\u001b[0m\n",
            "\u001b[0;32m<ipython-input-25-7c14adbfb3a3>\u001b[0m in \u001b[0;36msolve_u\u001b[0;34m(N, t)\u001b[0m\n\u001b[1;32m     11\u001b[0m     \u001b[0;32mfor\u001b[0m \u001b[0mj\u001b[0m \u001b[0;32min\u001b[0m \u001b[0mrange\u001b[0m\u001b[0;34m(\u001b[0m\u001b[0mT\u001b[0m \u001b[0;34m+\u001b[0m \u001b[0;36m1\u001b[0m\u001b[0;34m)\u001b[0m\u001b[0;34m:\u001b[0m\u001b[0;34m\u001b[0m\u001b[0;34m\u001b[0m\u001b[0m\n\u001b[1;32m     12\u001b[0m         \u001b[0;32mfor\u001b[0m \u001b[0mi\u001b[0m \u001b[0;32min\u001b[0m \u001b[0mrange\u001b[0m\u001b[0;34m(\u001b[0m\u001b[0mN\u001b[0m \u001b[0;34m+\u001b[0m \u001b[0;36m1\u001b[0m\u001b[0;34m)\u001b[0m\u001b[0;34m:\u001b[0m\u001b[0;34m\u001b[0m\u001b[0;34m\u001b[0m\u001b[0m\n\u001b[0;32m---> 13\u001b[0;31m             \u001b[0;32mif\u001b[0m \u001b[0mi\u001b[0m \u001b[0;34m!=\u001b[0m \u001b[0;36m0\u001b[0m \u001b[0;32mand\u001b[0m \u001b[0mi\u001b[0m \u001b[0;34m!=\u001b[0m \u001b[0mN\u001b[0m \u001b[0;32mand\u001b[0m \u001b[0mj\u001b[0m \u001b[0;34m!=\u001b[0m \u001b[0;36m0\u001b[0m\u001b[0;34m:\u001b[0m\u001b[0;34m\u001b[0m\u001b[0;34m\u001b[0m\u001b[0m\n\u001b[0m\u001b[1;32m     14\u001b[0m                 \u001b[0mu\u001b[0m\u001b[0;34m[\u001b[0m\u001b[0mi\u001b[0m\u001b[0;34m,\u001b[0m \u001b[0mj\u001b[0m\u001b[0;34m]\u001b[0m \u001b[0;34m=\u001b[0m \u001b[0mu\u001b[0m\u001b[0;34m[\u001b[0m\u001b[0mi\u001b[0m\u001b[0;34m,\u001b[0m \u001b[0mj\u001b[0m \u001b[0;34m-\u001b[0m \u001b[0;36m1\u001b[0m\u001b[0;34m]\u001b[0m \u001b[0;34m+\u001b[0m \u001b[0;34m(\u001b[0m\u001b[0mu\u001b[0m\u001b[0;34m[\u001b[0m\u001b[0mi\u001b[0m \u001b[0;34m-\u001b[0m \u001b[0;36m1\u001b[0m\u001b[0;34m,\u001b[0m \u001b[0mj\u001b[0m \u001b[0;34m-\u001b[0m \u001b[0;36m1\u001b[0m\u001b[0;34m]\u001b[0m \u001b[0;34m-\u001b[0m \u001b[0;36m2\u001b[0m \u001b[0;34m*\u001b[0m \u001b[0mu\u001b[0m\u001b[0;34m[\u001b[0m\u001b[0mi\u001b[0m\u001b[0;34m,\u001b[0m \u001b[0mj\u001b[0m \u001b[0;34m-\u001b[0m \u001b[0;36m1\u001b[0m\u001b[0;34m]\u001b[0m \u001b[0;34m+\u001b[0m \u001b[0mu\u001b[0m\u001b[0;34m[\u001b[0m\u001b[0mi\u001b[0m \u001b[0;34m+\u001b[0m \u001b[0;36m1\u001b[0m\u001b[0;34m,\u001b[0m \u001b[0mj\u001b[0m \u001b[0;34m-\u001b[0m \u001b[0;36m1\u001b[0m\u001b[0;34m]\u001b[0m\u001b[0;34m)\u001b[0m \u001b[0;34m/\u001b[0m \u001b[0;36m1000\u001b[0m \u001b[0;34m/\u001b[0m \u001b[0mh\u001b[0m\u001b[0;34m\u001b[0m\u001b[0;34m\u001b[0m\u001b[0m\n\u001b[1;32m     15\u001b[0m \u001b[0;34m\u001b[0m\u001b[0m\n",
            "\u001b[0;31mKeyboardInterrupt\u001b[0m: "
          ]
        }
      ],
      "source": [
        "%matplotlib inline\n",
        "from matplotlib import pyplot as plt\n",
        "from matplotlib import cm\n",
        "import math\n",
        "\n",
        "from scipy.sparse.linalg import spsolve\n",
        "\n",
        "N = 500\n",
        "t = 400\n",
        "\n",
        "sol = solve_u(N, t)\n",
        "fig = plt.figure(figsize=(8, 8))\n",
        "ax = fig.gca(projection='3d')\n",
        "ticksX = np.linspace(0, t, N * t + 1)\n",
        "ticksY = np.linspace(0, 1, N + 1)\n",
        "X, Y = np.meshgrid(ticksX, ticksY)\n",
        "surf = ax.plot_surface(X, Y, sol, antialiased=False, cmap=cm.coolwarm)\n",
        "ax.set_xlabel(r'$t$')\n",
        "ax.set_ylabel(r'$x$')\n",
        "ax.set_zlabel(r'$temperature$')\n",
        "\n",
        "plt.show()\n",
        "\n"
      ],
      "metadata": {
        "id": "0AUtZDuUg8J4",
        "outputId": "3465d0f7-2228-4ff0-a8ab-833f8897948d",
        "colab": {
          "base_uri": "https://localhost:8080/",
          "height": 357
        }
      }
    },
    {
      "cell_type": "markdown",
      "source": [
        "* plot the temperature of the rod at *t=1, t=2* and *t=10* ."
      ],
      "metadata": {
        "collapsed": false,
        "id": "cu-PdWi7g8J5"
      }
    },
    {
      "cell_type": "code",
      "execution_count": null,
      "outputs": [],
      "source": [
        "from tqdm import tqdm\n",
        "import matplotlib.pyplot as plt\n",
        "\n",
        "Ts = [1, 2, 10, 120]\n",
        "N = 66\n",
        "\n",
        "fig, ax = plt.subplots(len(Ts), 1, figsize=(7, len(Ts) * 3.5))\n",
        "u = solve_u_gpu(N, np.max(Ts))\n",
        "\n",
        "x = np.linspace(0, 1, N + 1)\n",
        "\n",
        "for count, t in enumerate(tqdm(Ts)):\n",
        "    ax[count].plot(x, u[:, t], 'c+-')\n",
        "    ax[count].set_title('t=' + str(t))\n",
        "\n",
        "plt.show()"
      ],
      "metadata": {
        "id": "6xGTU6TVg8J6"
      }
    },
    {
      "cell_type": "code",
      "execution_count": 45,
      "outputs": [],
      "source": [
        "import numba\n",
        "import numpy as np\n",
        "from numba import cuda\n",
        "from scipy.sparse import coo_matrix\n",
        "\n",
        "\n",
        "def solve_u_gpu(N, t):\n",
        "    T = N * t\n",
        "    h=1/N\n",
        "    block_per_grid = 3\n",
        "    t_per_block_i = (N + 1) // block_per_grid + 1 + 1  #最后一个拿来加j\n",
        "\n",
        "    blocks = (block_per_grid, 1)\n",
        "    threads = (t_per_block_i, 1)\n",
        "\n",
        "    @cuda.jit\n",
        "    def kernel(u, j):\n",
        "\n",
        "        tx = cuda.threadIdx.x\n",
        "        px = cuda.grid(1)\n",
        "        if px >= N + 1 or j >= T + 1:\n",
        "            return\n",
        "\n",
        "\n",
        "        elif px != 0 and px != N and j != 0 and px != t_per_block_i:\n",
        "            u[px, j] = u[px, j - 1] + (u[px - 1, j - 1] - 2 * u[px, j - 1] + u[px + 1, j - 1]) / 1000 / h\n",
        "\n",
        "        cuda.syncthreads()\n",
        "        if px == t_per_block_i:\n",
        "            j += 1\n",
        "\n",
        "    # print('blocks/grid: {0} ({2}*{2})\\nthreads/block: {1} ({3}*{3})'.format(block_per_grid ** 2, t_per_block ** 2,\n",
        "    #                                                                         block_per_grid, t_per_block))\n",
        "    u = cuda.device_array(shape=(N + 1, T + 1), dtype=np.float32)\n",
        "    u[:, 0] = 0\n",
        "    u[0, :] = 10\n",
        "    u[N, :] = 10\n",
        "    for j in range (1,N+1):\n",
        "      kernel[blocks, threads](u, j)\n",
        "\n",
        "    u= u.copy_to_host()\n",
        "\n",
        "    return u\n"
      ],
      "metadata": {
        "id": "dPvIvQcDg8J7"
      }
    },
    {
      "cell_type": "code",
      "execution_count": null,
      "outputs": [],
      "source": [
        "def cuda_init():\n",
        "    cuda.detect()\n",
        "    a = cuda.device_array(shape=(2, 2), dtype=np.float32)\n",
        "    print('Initialization complete')"
      ],
      "metadata": {
        "id": "TXH2YMXGg8J8"
      }
    },
    {
      "cell_type": "code",
      "source": [
        "from tqdm import tqdm\n",
        "import matplotlib.pyplot as plt\n",
        "\n",
        "N = 300\n",
        "x=N//2\n",
        "t=2\n",
        "T=N*t\n",
        "\n",
        "plt.figure(figsize=(7, 3))\n",
        "u = solve_u_gpu(N, t)\n",
        "\n",
        "t = np.linspace(0, t, T + 1)\n",
        "plt.plot(t, u[x,:], 'c+-')\n",
        "plt.title('x=' + str(x))\n",
        "\n",
        "plt.show()"
      ],
      "metadata": {
        "id": "kFmEQi7hhwhI",
        "colab": {
          "base_uri": "https://localhost:8080/",
          "height": 296
        },
        "outputId": "cfca9a26-6aa2-4726-c7e1-6a20c622c6db"
      },
      "execution_count": 51,
      "outputs": [
        {
          "output_type": "stream",
          "name": "stderr",
          "text": [
            "/usr/local/lib/python3.7/dist-packages/numba/cuda/dispatcher.py:488: NumbaPerformanceWarning: Grid size 1 will likely result in GPU under-utilization due to low occupancy.\n",
            "  warn(NumbaPerformanceWarning(msg))\n",
            "/usr/local/lib/python3.7/dist-packages/numba/cuda/dispatcher.py:488: NumbaPerformanceWarning: Grid size 3 will likely result in GPU under-utilization due to low occupancy.\n",
            "  warn(NumbaPerformanceWarning(msg))\n"
          ]
        },
        {
          "output_type": "display_data",
          "data": {
            "text/plain": [
              "<Figure size 504x216 with 1 Axes>"
            ],
            "image/png": "[encoded data removed]"
          },
          "metadata": {
            "needs_background": "light"
          }
        }
      ]
    },
    {
      "cell_type": "code",
      "source": [],
      "metadata": {
        "id": "tRCqAufGnUGU"
      },
      "execution_count": null,
      "outputs": []
    }
  ],
  "metadata": {
    "kernelspec": {
      "display_name": "Python 3",
      "language": "python",
      "name": "python3"
    },
    "language_info": {
      "codemirror_mode": {
        "name": "ipython",
        "version": 2
      },
      "file_extension": ".py",
      "mimetype": "text/x-python",
      "name": "python",
      "nbconvert_exporter": "python",
      "pygments_lexer": "ipython2",
      "version": "2.7.6"
    },
    "colab": {
      "provenance": []
    },
    "accelerator": "GPU",
    "gpuClass": "standard"
  },
  "nbformat": 4,
  "nbformat_minor": 0
}