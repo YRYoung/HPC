{
 "cells": [
  {
   "cell_type": "markdown",
   "source": [
    "## Write a Python function that takes *N* as an input and returns the matrix *A* and vector *f*.\n",
    "You should use an appropriate sparse storage format for the matrix *A*."
   ],
   "metadata": {
    "collapsed": false
   }
  },
  {
   "cell_type": "code",
   "execution_count": 1,
   "outputs": [
    {
     "ename": "NameError",
     "evalue": "name 'math' is not defined",
     "output_type": "error",
     "traceback": [
      "\u001B[1;31m---------------------------------------------------------------------------\u001B[0m",
      "\u001B[1;31mNameError\u001B[0m                                 Traceback (most recent call last)",
      "Input \u001B[1;32mIn [1]\u001B[0m, in \u001B[0;36m<cell line: 30>\u001B[1;34m()\u001B[0m\n\u001B[0;32m     35\u001B[0m         v \u001B[38;5;241m=\u001B[39m \u001B[38;5;241m0\u001B[39m\n\u001B[0;32m     36\u001B[0m         \u001B[38;5;28;01mfor\u001B[39;00m m, s \u001B[38;5;129;01min\u001B[39;00m \u001B[38;5;28mzip\u001B[39m(magnitudes, sources):\n\u001B[1;32m---> 37\u001B[0m             v \u001B[38;5;241m+\u001B[39m\u001B[38;5;241m=\u001B[39m m \u001B[38;5;241m*\u001B[39m \u001B[43mg\u001B[49m\u001B[43m(\u001B[49m\u001B[43ms\u001B[49m\u001B[43m,\u001B[49m\u001B[43m \u001B[49m\u001B[43mpoint\u001B[49m\u001B[43m)\u001B[49m\n\u001B[0;32m     38\u001B[0m         values[i, j] \u001B[38;5;241m=\u001B[39m v     \n\u001B[0;32m     40\u001B[0m plt\u001B[38;5;241m.\u001B[39mimshow(values, extent\u001B[38;5;241m=\u001B[39m[xmin, xmax, ymin, ymax])\n",
      "Input \u001B[1;32mIn [1]\u001B[0m, in \u001B[0;36mg\u001B[1;34m(x, y)\u001B[0m\n\u001B[0;32m      7\u001B[0m \u001B[38;5;28;01mdef\u001B[39;00m \u001B[38;5;21mg\u001B[39m(x, y):\n\u001B[0;32m      8\u001B[0m     \u001B[38;5;124;03m\"\"\"Evaluate real part of the acoustic Green's function.\"\"\"\u001B[39;00m\n\u001B[1;32m----> 9\u001B[0m     \u001B[38;5;28;01mreturn\u001B[39;00m \u001B[43mmath\u001B[49m\u001B[38;5;241m.\u001B[39mcos(k \u001B[38;5;241m*\u001B[39m np\u001B[38;5;241m.\u001B[39mlinalg\u001B[38;5;241m.\u001B[39mnorm(x \u001B[38;5;241m-\u001B[39m y)) \u001B[38;5;241m/\u001B[39m \u001B[38;5;241m4\u001B[39m \u001B[38;5;241m/\u001B[39m np\u001B[38;5;241m.\u001B[39mpi \u001B[38;5;241m/\u001B[39m np\u001B[38;5;241m.\u001B[39mlinalg\u001B[38;5;241m.\u001B[39mnorm(x \u001B[38;5;241m-\u001B[39m y)\n",
      "\u001B[1;31mNameError\u001B[0m: name 'math' is not defined"
     ]
    }
   ],
   "source": [],
   "metadata": {
    "collapsed": false
   }
  },
  {
   "cell_type": "code",
   "execution_count": null,
   "outputs": [],
   "source": [],
   "metadata": {
    "collapsed": false
   }
  }
 ],
 "metadata": {
  "kernelspec": {
   "display_name": "Python 3",
   "language": "python",
   "name": "python3"
  },
  "language_info": {
   "codemirror_mode": {
    "name": "ipython",
    "version": 2
   },
   "file_extension": ".py",
   "mimetype": "text/x-python",
   "name": "python",
   "nbconvert_exporter": "python",
   "pygments_lexer": "ipython2",
   "version": "2.7.6"
  }
 },
 "nbformat": 4,
 "nbformat_minor": 0
}
